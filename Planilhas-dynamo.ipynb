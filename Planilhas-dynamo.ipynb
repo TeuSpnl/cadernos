{
 "cells": [
  {
   "cell_type": "code",
   "execution_count": 2,
   "metadata": {},
   "outputs": [
    {
     "data": {
      "text/plain": [
       "True"
      ]
     },
     "execution_count": 2,
     "metadata": {},
     "output_type": "execute_result"
    }
   ],
   "source": [
    "import os\n",
    "import re\n",
    "import csv\n",
    "import datetime\n",
    "import firebirdsql\n",
    "\n",
    "from dotenv import load_dotenv\n",
    "\n",
    "# Carregar variáveis de ambiente\n",
    "load_dotenv()"
   ]
  },
  {
   "cell_type": "code",
   "execution_count": 3,
   "metadata": {},
   "outputs": [],
   "source": [
    "\n",
    "\n",
    "def get_firebird_connection():\n",
    "    # Ajustar com os parâmetros corretos do Firebird, inclusive charset\n",
    "    return firebirdsql.connect(\n",
    "        host=os.getenv('HOST'),\n",
    "        port=int(os.getenv('PORT', '3050')),\n",
    "        database=os.getenv('DB_PATH'),\n",
    "        user=os.getenv('APP_USER'),\n",
    "        password=os.getenv('PASSWORD'),\n",
    "        role=os.getenv('ROLE'),\n",
    "        auth_plugin_name=os.getenv('AUTH'),\n",
    "        wire_crypt=False,\n",
    "        charset='ISO8859_1'\n",
    "    )"
   ]
  },
  {
   "cell_type": "code",
   "execution_count": null,
   "metadata": {},
   "outputs": [],
   "source": [
    "conn = get_firebird_connection()\n",
    "curs = conn.cursor()\n",
    "\n",
    "# Pegar todos os dados das colunas HISTORICOPRODUTO (de 1 a 10), onde TIPO = 'PEDIDO'\n",
    "for i in range(1, 11):\n",
    "    curs.execute(f\"\"\"\n",
    "        SELECT NUMDOCUMENTO, DATA\n",
    "        FROM HISTORICOPRODUTO{i}\n",
    "        WHERE TIPO = 'PEDIDO'\n",
    "        AND DATA BETWEEN '2024-11-01' AND '2024-12-18'\n",
    "        AND CDPRODUTO = 51005\n",
    "    \"\"\")\n",
    "    rows = curs.fetchall()\n",
    "    for row in rows:\n",
    "        print(row)"
   ]
  },
  {
   "cell_type": "code",
   "execution_count": null,
   "metadata": {},
   "outputs": [],
   "source": [
    "import pandas as pd\n",
    "import csv\n",
    "\n",
    "# Caminho para o arquivo original\n",
    "file_path = './arquivos/faturamento-comagro.csv'\n",
    "\n",
    "# Ler o arquivo CSV com separador ';' e sem cabeçalho\n",
    "data = pd.read_csv(file_path, sep=';', header=None, dtype=str, keep_default_na=False)\n",
    "\n",
    "# Função para formatar datas de AAAA-MM-DD para DD/MM/AAAA\n",
    "def format_date(date_str):\n",
    "    try:\n",
    "        # Tenta converter AAAA-MM-DD -> DD/MM/AAAA\n",
    "        return pd.to_datetime(date_str, format='%Y-%m-%d').strftime('%d/%m/%Y')\n",
    "    except ValueError:\n",
    "        # Se falhar, devolve o original, sem mexer\n",
    "        return date_str\n",
    "\n",
    "# Aplicar a formatação de datas apenas na 4ª coluna (índice 3)\n",
    "data[3] = data[3].apply(format_date)\n",
    "print(data[3])\n",
    "\n",
    "# Salvar o arquivo transformado\n",
    "output_path = './arquivos/faturamento-comagro-transformado.csv'\n",
    "data.to_csv(\n",
    "    output_path,\n",
    "    sep=';',           # mantém o separador ponto-e-vírgula\n",
    "    index=False,       # não salva índice\n",
    "    header=False,      # não salva cabeçalho\n",
    "    quoting=csv.QUOTE_NONE,  # não coloca aspas\n",
    "    escapechar='\\\\',   # se tiver ponto-e-vírgula ou barra\n",
    "    encoding='utf-8'\n",
    ")\n",
    "\n",
    "print(f\"Arquivo salvo em: {output_path}\")"
   ]
  },
  {
   "cell_type": "code",
   "execution_count": null,
   "metadata": {},
   "outputs": [],
   "source": [
    "import pandas as pd\n",
    "import csv\n",
    "\n",
    "# Caminho para o arquivo original\n",
    "file_path = './arquivos/faturamento-comagro-cnpj-data-corrigido.csv'\n",
    "\n",
    "# Ler o arquivo CSV com separador ';' e sem cabeçalho\n",
    "data = pd.read_csv(file_path, sep=';', header=None, dtype=str, keep_default_na=False)\n",
    "\n",
    "colunas_alvo = [17, 18, 22, 23, 24]\n",
    "\n",
    "def trocar_ponto_por_virgula(valor_str):\n",
    "    \"\"\"\n",
    "    Substitui todos os '.' por ',' no texto.\n",
    "    Se por acaso quiser filtrar só se for número, poderia\n",
    "    usar uma checagem adicional. Mas aqui, troca direta.\n",
    "    \"\"\"\n",
    "    # valor_str é sempre string (dtype=str)\n",
    "    return valor_str.replace('.', ',')\n",
    "\n",
    "# Aplicar a função somente nas colunas-alvo\n",
    "for col in colunas_alvo:\n",
    "    data[col] = data[col].apply(trocar_ponto_por_virgula)\n",
    "\n",
    "# Salvar o arquivo transformado\n",
    "output_path = './arquivos/faturamento-comagro-transformado.csv'\n",
    "data.to_csv(\n",
    "    output_path,\n",
    "    sep=';',           # mantém o separador ponto-e-vírgula\n",
    "    index=False,       # não salva índice\n",
    "    header=False,      # não salva cabeçalho\n",
    "    quoting=csv.QUOTE_NONE,  # não coloca aspas\n",
    "    escapechar='\\\\',   # se tiver ponto-e-vírgula ou barra\n",
    "    encoding='utf-8'\n",
    ")\n",
    "\n",
    "print(f\"Arquivo salvo em: {output_path}\")"
   ]
  },
  {
   "cell_type": "code",
   "execution_count": 1,
   "metadata": {},
   "outputs": [],
   "source": [
    "\n",
    "def normalizar_numero(valor):\n",
    "    \"\"\"\n",
    "    Substitui o ponto decimal por vírgula, \n",
    "    arredonda para duas casas decimais se for numérico.\n",
    "    Se 'valor' não for conversível em float, \n",
    "    apenas faz 'replace' de '.' por ','.\n",
    "    \"\"\"\n",
    "    if not valor:\n",
    "        return \"\"\n",
    "\n",
    "    try:\n",
    "        # Tenta converter em float\n",
    "        f_val = float(valor)\n",
    "        # Arredonda para duas casas decimais\n",
    "        f_val = round(f_val, 2)\n",
    "        # Formata com 2 casas decimais e troca '.' por ','\n",
    "        val_str = f\"{f_val:.2f}\".replace('.', ',')\n",
    "        return val_str\n",
    "    except ValueError:\n",
    "        # Se não der para converter em float,\n",
    "        # apenas troca '.' por ',' no texto original\n",
    "        val_str = str(valor).replace('.', ',')\n",
    "        return val_str\n"
   ]
  },
  {
   "cell_type": "code",
   "execution_count": null,
   "metadata": {},
   "outputs": [],
   "source": [
    "print(normalizar_numero(123.456789))  # Saída: \"123,46\"\n",
    "print(normalizar_numero(123.4))       # Saída: \"123,40\"\n",
    "print(normalizar_numero(\"123.456\"))   # Saída: \"123,46\"\n",
    "print(normalizar_numero(\"123.454\"))   # Saída: \"123,46\"\n",
    "print(normalizar_numero(\"abc\"))       # Saída: \"\"\n",
    "print(normalizar_numero(None))        # Saída: \"\""
   ]
  },
  {
   "cell_type": "code",
   "execution_count": 6,
   "metadata": {},
   "outputs": [],
   "source": [
    "import pysftp\n",
    "\n",
    "load_dotenv()\n",
    "\n",
    "cnopts = pysftp.CnOpts()\n",
    "\n",
    "# Carrega o arquivo 'my_known_hosts' (ou outro nome)\n",
    "cnopts.hostkeys.load('my_known_hosts')\n",
    "\n",
    "# start_date = '2025-01-18'\n",
    "start_ = (datetime.datetime.now() - datetime.timedelta(days=1)).strftime('%Y-%m-%d')\n",
    "end_date = (datetime.datetime.now() - datetime.timedelta(days=1)).strftime('%Y-%m-%d')\n",
    "\n",
    "date_start_date = datetime.datetime.strptime(start_date, \"%Y-%m-%d\")\n",
    "date_end_date = datetime.datetime.strptime(end_date, \"%Y-%m-%d\")\n",
    "\n",
    "csv_path = f\"./arquivos/faturamento-comagro-{date_start_date.day}_{\n",
    "        date_start_date.month}-{date_end_date.day}_{date_end_date.month}.csv\"\n",
    "\n",
    "# Função fictícia de SFTP (dados incompletos)\n",
    "def enviar_arquivo_sftp(file_path):\n",
    "    \"\"\"\n",
    "    Função para ilustrar uma conexão SFTP.\n",
    "    Dados de host, user, password etc. ainda não estão definidos.\n",
    "    \"\"\"\n",
    "\n",
    "    # Configuração do servidor SFTP\n",
    "    sftp_host = os.getenv('SFTP_HOST')\n",
    "    sftp_user = os.getenv('SFTP_USER')\n",
    "    sftp_pass = os.getenv('SFTP_PASSWORD')\n",
    "    remote_dir = '/workarea'\n",
    "\n",
    "    with pysftp.Connection(host=sftp_host, username=sftp_user, password=sftp_pass, cnopts=cnopts) as sftp:\n",
    "        with sftp.cd(remote_dir):\n",
    "            sftp.put(file_path)  # envia o arquivo\n",
    "            print(\"Arquivo enviado com sucesso.\")"
   ]
  },
  {
   "cell_type": "code",
   "execution_count": 7,
   "metadata": {},
   "outputs": [
    {
     "name": "stdout",
     "output_type": "stream",
     "text": [
      "Arquivo enviado com sucesso.\n"
     ]
    }
   ],
   "source": [
    "enviar_arquivo_sftp(csv_path)"
   ]
  },
  {
   "cell_type": "code",
   "execution_count": 4,
   "metadata": {},
   "outputs": [
    {
     "name": "stdout",
     "output_type": "stream",
     "text": [
      "537.330.465-44\n"
     ]
    }
   ],
   "source": [
    "conn = get_firebird_connection()\n",
    "cur = conn.cursor()\n",
    "\n",
    "# Buscar todos os clientes com CPF_CNPJ igual a '000.000.000-00' ou '00.000.000/0000-00'\n",
    "cur.execute(\"\"\"\n",
    "    SELECT CPF_CNPJ\n",
    "    FROM CLIENTE\n",
    "    WHERE NOME = 'CONSUMIDOR - A VISTA'\n",
    "\"\"\")\n",
    "clientes = cur.fetchall()\n",
    "\n",
    "# Imprimir os nomes dos clientes\n",
    "for cliente in clientes:\n",
    "    print(cliente[0])\n",
    "\n",
    "conn.close()"
   ]
  }
 ],
 "metadata": {
  "kernelspec": {
   "display_name": "venv",
   "language": "python",
   "name": "python3"
  },
  "language_info": {
   "codemirror_mode": {
    "name": "ipython",
    "version": 3
   },
   "file_extension": ".py",
   "mimetype": "text/x-python",
   "name": "python",
   "nbconvert_exporter": "python",
   "pygments_lexer": "ipython3",
   "version": "3.12.1"
  }
 },
 "nbformat": 4,
 "nbformat_minor": 2
}
