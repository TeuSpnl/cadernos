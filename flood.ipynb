{
 "cells": [
  {
   "cell_type": "code",
   "execution_count": 1,
   "metadata": {},
   "outputs": [],
   "source": [
    "import pyautogui as ptgui\n",
    "from time import sleep"
   ]
  },
  {
   "cell_type": "code",
   "execution_count": null,
   "metadata": {},
   "outputs": [
    {
     "name": "stdout",
     "output_type": "stream",
     "text": [
      "Bom dia!\n",
      "Point(x=218, y=37)\n",
      "Bom dia!\n",
      "Point(x=218, y=37)\n",
      "Bom dia!\n",
      "Point(x=218, y=37)\n",
      "Bom dia!\n",
      "Point(x=218, y=37)\n",
      "Bom dia!\n",
      "Point(x=218, y=37)\n"
     ]
    },
    {
     "ename": "",
     "evalue": "",
     "output_type": "error",
     "traceback": [
      "\u001b[1;31mThe Kernel crashed while executing code in the current cell or a previous cell. \n",
      "\u001b[1;31mPlease review the code in the cell(s) to identify a possible cause of the failure. \n",
      "\u001b[1;31mClick <a href='https://aka.ms/vscodeJupyterKernelCrash'>here</a> for more info. \n",
      "\u001b[1;31mView Jupyter <a href='command:jupyter.viewOutput'>log</a> for further details."
     ]
    }
   ],
   "source": [
    "sleep(1.5)\n",
    "# Para pegar posições\n",
    "print (\"Bom dia!\")\n",
    "sleep(1.5)\n",
    "print(ptgui.position())\n",
    "print (\"Bom dia!\")\n",
    "sleep(1.5)\n",
    "print(ptgui.position())\n",
    "print (\"Bom dia!\")\n",
    "sleep(1.5)\n",
    "print(ptgui.position())\n",
    "print (\"Bom dia!\")\n",
    "sleep(1.5)\n",
    "print(ptgui.position())\n",
    "print (\"Bom dia!\")\n",
    "sleep(1.5)\n",
    "print(ptgui.position())"
   ]
  },
  {
   "cell_type": "code",
   "execution_count": 15,
   "metadata": {},
   "outputs": [],
   "source": [
    "def apagar():\n",
    "    ptgui.rightClick(749, 582)\n",
    "    sleep(.5)\n",
    "    ptgui.click(753, 616)\n",
    "    sleep(.5)\n",
    "    ptgui.press(\"enter\")\n",
    "    sleep(.5)"
   ]
  },
  {
   "cell_type": "code",
   "execution_count": null,
   "metadata": {},
   "outputs": [
    {
     "ename": "",
     "evalue": "",
     "output_type": "error",
     "traceback": [
      "\u001b[1;31mThe Kernel crashed while executing code in the current cell or a previous cell. \n",
      "\u001b[1;31mPlease review the code in the cell(s) to identify a possible cause of the failure. \n",
      "\u001b[1;31mClick <a href='https://aka.ms/vscodeJupyterKernelCrash'>here</a> for more info. \n",
      "\u001b[1;31mView Jupyter <a href='command:jupyter.viewOutput'>log</a> for further details."
     ]
    }
   ],
   "source": [
    "ptgui.hotkey('ctrl', 'right')\n",
    "\n",
    "sleep(.5)\n",
    "# ptgui.press(\"enter\")\n",
    "# sleep(.25)\n",
    "\n",
    "i = 31\n",
    "\n",
    "ptgui.click(749, 309)\n",
    "\n",
    "while i <= 102:\n",
    "    sleep(.25)\n",
    "    for j in range(i):\n",
    "        ptgui.press(\"down\")\n",
    "    apagar()\n",
    "    i += 1"
   ]
  }
 ],
 "metadata": {
  "kernelspec": {
   "display_name": "venv",
   "language": "python",
   "name": "python3"
  },
  "language_info": {
   "codemirror_mode": {
    "name": "ipython",
    "version": 3
   },
   "file_extension": ".py",
   "mimetype": "text/x-python",
   "name": "python",
   "nbconvert_exporter": "python",
   "pygments_lexer": "ipython3",
   "version": "3.13.1"
  }
 },
 "nbformat": 4,
 "nbformat_minor": 2
}
