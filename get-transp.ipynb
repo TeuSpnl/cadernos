{
 "cells": [
  {
   "cell_type": "code",
   "execution_count": 1,
   "id": "78d20a15",
   "metadata": {},
   "outputs": [
    {
     "data": {
      "text/plain": [
       "True"
      ]
     },
     "execution_count": 1,
     "metadata": {},
     "output_type": "execute_result"
    }
   ],
   "source": [
    "import os\n",
    "import datetime\n",
    "import firebirdsql\n",
    "import pandas as pd\n",
    "from queue import Queue\n",
    "import concurrent.futures\n",
    "from openpyxl import Workbook\n",
    "from dotenv import load_dotenv\n",
    "\n",
    "# Carregar variáveis de ambiente\n",
    "load_dotenv()"
   ]
  },
  {
   "cell_type": "code",
   "execution_count": 2,
   "id": "10113e3d",
   "metadata": {},
   "outputs": [],
   "source": [
    "# ===================== Funções de Conexão =====================\n",
    "def get_firebird_connection():\n",
    "    # Ajuste os parâmetros conforme sua configuração, inclusive charset\n",
    "    return firebirdsql.connect(\n",
    "        host=os.getenv('HOST'),\n",
    "        port=int(os.getenv('PORT', '3050')),\n",
    "        database=os.getenv('DB_PATH'),\n",
    "        user=os.getenv('APP_USER'),\n",
    "        password=os.getenv('PASSWORD'),\n",
    "        role=os.getenv('ROLE'),\n",
    "        auth_plugin_name=os.getenv('AUTH'),\n",
    "        wire_crypt=False,\n",
    "        charset='ISO8859_1'\n",
    "    )"
   ]
  },
  {
   "cell_type": "code",
   "execution_count": 9,
   "id": "2ba8977a",
   "metadata": {},
   "outputs": [],
   "source": [
    "conn = get_firebird_connection()\n",
    "cursor = conn.cursor()\n",
    "\n",
    "query = \"\"\"\n",
    "    SELECT DISTINCT\n",
    "           ns.NOME,           -- Cliente\n",
    "           ns.NOMETRANSP      -- Transportadora\n",
    "    FROM   NOTASAIDA  ns\n",
    "    JOIN   CLIENTE     c  ON  c.CDCLIENTE = ns.CDCLIENTE\n",
    "    WHERE  c.SITUACAO = 'ATIVO'               -- apenas clientes ativos\n",
    "      AND  ns.NOME IS NOT NULL                -- opcional, evita linhas vazias\n",
    "      AND  ns.NOMETRANSP IS NOT NULL\n",
    "      AND  ns.DTEMISSAO BETWEEN '2024-01-01' AND '2025-04-16'\n",
    "    ORDER  BY ns.NOMETRANSP, ns.NOME\n",
    "\"\"\"\n",
    "        \n",
    "cursor.execute(query)\n",
    "rows = cursor.fetchall()"
   ]
  },
  {
   "cell_type": "code",
   "execution_count": 10,
   "id": "a565a9fd",
   "metadata": {},
   "outputs": [],
   "source": [
    "import re\n",
    "\n",
    "def sanitize_string(value):\n",
    "    \"\"\"\n",
    "    Remove caracteres ilegais para XML (usado pelo OpenPyXL) de uma string.\n",
    "    \"\"\"\n",
    "    # Essa expressão regular remove caracteres com códigos 0-8, 11, 12 e 14-31.\n",
    "    illegal_xml_chars_re = re.compile(r'[\\000-\\010\\013\\014\\016-\\037]')\n",
    "    return illegal_xml_chars_re.sub(\"\", value)"
   ]
  },
  {
   "cell_type": "code",
   "execution_count": 11,
   "id": "98b17441",
   "metadata": {},
   "outputs": [
    {
     "name": "stdout",
     "output_type": "stream",
     "text": [
      "Arquivo Excel salvo como './arquivos/clientes-trans.xlsx'\n"
     ]
    }
   ],
   "source": [
    "wb = Workbook()\n",
    "ws = wb.active\n",
    "\n",
    "for cliente in rows:\n",
    "    processed_row = []\n",
    "    for column in cliente:\n",
    "        # Se for do tipo bytes, decodifica-o para string\n",
    "        if isinstance(column, bytes):\n",
    "            try:\n",
    "                decoded = column.decode(\"iso-8859-1\", errors=\"replace\")\n",
    "            except UnicodeDecodeError:\n",
    "                decoded = column.decode(\"utf-8\", errors=\"replace\")\n",
    "            processed_row.append(sanitize_string(decoded))\n",
    "        else:\n",
    "            processed_row.append(column)\n",
    "    # Adiciona a linha completa ao worksheet\n",
    "    ws.append(processed_row)\n",
    "\n",
    "# Salva o arquivo Excel\n",
    "output_filename = \"./arquivos/clientes-trans.xlsx\"\n",
    "wb.save(output_filename)\n",
    "print(f\"Arquivo Excel salvo como '{output_filename}'\")"
   ]
  },
  {
   "cell_type": "code",
   "execution_count": null,
   "id": "96278ed0",
   "metadata": {},
   "outputs": [],
   "source": []
  }
 ],
 "metadata": {
  "kernelspec": {
   "display_name": "venv",
   "language": "python",
   "name": "python3"
  },
  "language_info": {
   "codemirror_mode": {
    "name": "ipython",
    "version": 3
   },
   "file_extension": ".py",
   "mimetype": "text/x-python",
   "name": "python",
   "nbconvert_exporter": "python",
   "pygments_lexer": "ipython3",
   "version": "3.13.1"
  }
 },
 "nbformat": 4,
 "nbformat_minor": 5
}
