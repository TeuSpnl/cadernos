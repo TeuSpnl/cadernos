{
 "cells": [
  {
   "cell_type": "code",
   "execution_count": 1,
   "metadata": {},
   "outputs": [
    {
     "name": "stdout",
     "output_type": "stream",
     "text": [
      "Uso: python corrige_remessa.py <arquivo_entrada.rem>\n"
     ]
    },
    {
     "ename": "SystemExit",
     "evalue": "1",
     "output_type": "error",
     "traceback": [
      "An exception has occurred, use %tb to see the full traceback.\n",
      "\u001b[1;31mSystemExit\u001b[0m\u001b[1;31m:\u001b[0m 1\n"
     ]
    },
    {
     "name": "stderr",
     "output_type": "stream",
     "text": [
      "d:\\www\\python\\cadernos\\venv\\Lib\\site-packages\\IPython\\core\\interactiveshell.py:3585: UserWarning: To exit: use 'exit', 'quit', or Ctrl-D.\n",
      "  warn(\"To exit: use 'exit', 'quit', or Ctrl-D.\", stacklevel=1)\n"
     ]
    }
   ],
   "source": [
    "import unicodedata\n",
    "import sys\n",
    "\n",
    "def remove_accents(text):\n",
    "    \"\"\"\n",
    "    Remove os acentos (diacríticos) de uma string usando a normalização Unicode.\n",
    "    \"\"\"\n",
    "    nfkd_form = unicodedata.normalize('NFKD', text)\n",
    "    return \"\".join([c for c in nfkd_form if not unicodedata.combining(c)])\n",
    "\n",
    "def process_line(line):\n",
    "    \"\"\"\n",
    "    Processa uma linha do arquivo:\n",
    "    1. Remove os acentos.\n",
    "    2. Se a linha tiver ao menos 88 caracteres, verifica o campo de variação\n",
    "       (posições 86 a 88, índice 85 a 88 em Python). Se for '000', substitui por '019'.\n",
    "    \"\"\"\n",
    "    # Remove acentos da linha inteira\n",
    "    line = remove_accents(line)\n",
    "    \n",
    "    # Verifica se a linha possui comprimento suficiente para ter o campo de variação\n",
    "    if len(line) >= 88:\n",
    "        # Posições 86 a 88 (1-indexed) correspondem a índices 85 a 88 (exclusivo)\n",
    "        if line[85:88] == \"000\":\n",
    "            line = line[:85] + \"019\" + line[88:]\n",
    "    return line\n",
    "\n",
    "def process_file(input_filename, output_filename):\n",
    "    \"\"\"\n",
    "    Lê o arquivo de entrada, processa cada linha e grava as alterações\n",
    "    em um novo arquivo.\n",
    "    \"\"\"\n",
    "    with open(input_filename, 'r', encoding='ISO8859_1') as fin, \\\n",
    "         open(output_filename, 'w', encoding='ISO8859_1') as fout:\n",
    "        for line in fin:\n",
    "            # Remove a quebra de linha e processa a linha\n",
    "            processed_line = process_line(line.rstrip('\\n'))\n",
    "            fout.write(processed_line + '\\n')\n",
    "\n",
    "\n",
    "if len(sys.argv) != 3:\n",
    "    print(\"Uso: python corrige_remessa.py <arquivo_entrada.rem>\")\n",
    "    sys.exit(1)\n",
    "\n",
    "input_file = sys.argv[1]\n",
    "print(sys.argv[1])\n",
    "output_file = \"C:\\\\Users\\\\Mateus\\\\Desktop\\\\cb250201-solved.rem\"\n",
    "\n",
    "process_file(input_file, output_file)\n",
    "print(f\"Arquivo processado. Saída em: {output_file}\")"
   ]
  }
 ],
 "metadata": {
  "kernelspec": {
   "display_name": "venv",
   "language": "python",
   "name": "python3"
  },
  "language_info": {
   "codemirror_mode": {
    "name": "ipython",
    "version": 3
   },
   "file_extension": ".py",
   "mimetype": "text/x-python",
   "name": "python",
   "nbconvert_exporter": "python",
   "pygments_lexer": "ipython3",
   "version": "3.12.1"
  }
 },
 "nbformat": 4,
 "nbformat_minor": 2
}
