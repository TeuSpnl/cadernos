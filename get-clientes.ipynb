{
 "cells": [
  {
   "cell_type": "code",
   "execution_count": 6,
   "metadata": {},
   "outputs": [
    {
     "data": {
      "text/plain": [
       "True"
      ]
     },
     "execution_count": 6,
     "metadata": {},
     "output_type": "execute_result"
    }
   ],
   "source": [
    "import os\n",
    "import datetime\n",
    "import firebirdsql\n",
    "import pandas as pd\n",
    "from queue import Queue\n",
    "import concurrent.futures\n",
    "from openpyxl import Workbook\n",
    "from dotenv import load_dotenv\n",
    "\n",
    "# Carregar variáveis de ambiente\n",
    "load_dotenv()"
   ]
  },
  {
   "cell_type": "code",
   "execution_count": 7,
   "metadata": {},
   "outputs": [],
   "source": [
    "# ===================== Funções de Conexão =====================\n",
    "def get_firebird_connection():\n",
    "    # Ajuste os parâmetros conforme sua configuração, inclusive charset\n",
    "    return firebirdsql.connect(\n",
    "        host=os.getenv('HOST'),\n",
    "        port=int(os.getenv('PORT', '3050')),\n",
    "        database=os.getenv('DB_PATH'),\n",
    "        user=os.getenv('APP_USER'),\n",
    "        password=os.getenv('PASSWORD'),\n",
    "        role=os.getenv('ROLE'),\n",
    "        auth_plugin_name=os.getenv('AUTH'),\n",
    "        wire_crypt=False,\n",
    "        charset='ISO8859_1'\n",
    "    )"
   ]
  },
  {
   "cell_type": "code",
   "execution_count": 3,
   "metadata": {},
   "outputs": [],
   "source": [
    "conn = get_firebird_connection()\n",
    "cursor = conn.cursor()\n",
    "\n",
    "query = \"\"\"\n",
    "            SELECT NOME, OBS\n",
    "            FROM CLIENTE\n",
    "            ORDER BY CDCLIENTE\n",
    "        \"\"\"\n",
    "        \n",
    "cursor.execute(query)\n",
    "rows = cursor.fetchall()"
   ]
  },
  {
   "cell_type": "code",
   "execution_count": 4,
   "metadata": {},
   "outputs": [],
   "source": [
    "import re\n",
    "\n",
    "def sanitize_string(value):\n",
    "    \"\"\"\n",
    "    Remove caracteres ilegais para XML (usado pelo OpenPyXL) de uma string.\n",
    "    \"\"\"\n",
    "    # Essa expressão regular remove caracteres com códigos 0-8, 11, 12 e 14-31.\n",
    "    illegal_xml_chars_re = re.compile(r'[\\000-\\010\\013\\014\\016-\\037]')\n",
    "    return illegal_xml_chars_re.sub(\"\", value)"
   ]
  },
  {
   "cell_type": "code",
   "execution_count": 5,
   "metadata": {},
   "outputs": [
    {
     "name": "stdout",
     "output_type": "stream",
     "text": [
      "Arquivo Excel salvo como 'clientes-obs.xlsx'\n"
     ]
    }
   ],
   "source": [
    "wb = Workbook()\n",
    "ws = wb.active\n",
    "\n",
    "for cliente in rows:\n",
    "    processed_row = []\n",
    "    for column in cliente:\n",
    "        # Se for do tipo bytes, decodifica-o para string\n",
    "        if isinstance(column, bytes):\n",
    "            try:\n",
    "                decoded = column.decode(\"iso-8859-1\", errors=\"replace\")\n",
    "            except UnicodeDecodeError:\n",
    "                decoded = column.decode(\"utf-8\", errors=\"replace\")\n",
    "            processed_row.append(sanitize_string(decoded))\n",
    "        else:\n",
    "            processed_row.append(column)\n",
    "    # Adiciona a linha completa ao worksheet\n",
    "    ws.append(processed_row)\n",
    "\n",
    "# Salva o arquivo Excel\n",
    "output_filename = \"clientes-obs.xlsx\"\n",
    "wb.save(output_filename)\n",
    "print(f\"Arquivo Excel salvo como '{output_filename}'\")"
   ]
  },
  {
   "cell_type": "code",
   "execution_count": null,
   "metadata": {},
   "outputs": [],
   "source": [
    "# ===================== Criação do Excel =====================\n",
    "wb = Workbook()\n",
    "ws = wb.active\n",
    "\n",
    "# Definindo o header na ordem especificada\n",
    "header = [\n",
    "    \"CDCLIENTE\",\n",
    "    \"NOME\",\n",
    "    \"DESCONTOHBL\",\n",
    "    \"ENDERECO\",\n",
    "    \"BAIRRO\",\n",
    "    \"CIDADE\",\n",
    "    \"ESTADO\",\n",
    "    \"CEP\",\n",
    "    \"VALORAFATURAR\",\n",
    "    \"VALORFATURADO\",\n",
    "    \"DTCADASTRO\",\n",
    "    \"DTULTIMOMOV\",\n",
    "    \"TEMENDENVIO\",\n",
    "    \"TEMENDNF\",\n",
    "    \"PRAZOPGTO\",\n",
    "    \"CDTIPO\",\n",
    "    \"CDDESCONTO\",\n",
    "    \"TIPO\",\n",
    "    \"CDLOCAL\",\n",
    "    \"CDLOCALCOBRANCA\",\n",
    "    \"PRAZOPEDIDO\",\n",
    "    \"LIMITECREDITO\",\n",
    "    \"SITUACAO\",\n",
    "    \"CPF_CNPJ\",\n",
    "    \"NOMEFANTASIA\",\n",
    "    \"DTFUNDACAO\",\n",
    "    \"EMAIL\",\n",
    "    \"INSCRICAOMUNICIPAL\",\n",
    "    \"RESPONSAVELPGTO\",\n",
    "    \"FONERESPPGTO\",\n",
    "    \"RESPONSAVELCOMPRA\",\n",
    "    \"FONERESPCOMPRA\",\n",
    "    \"NUMREGJUNTACOMERCIAL\",\n",
    "    \"FILIACAPAI\",\n",
    "    \"FILIACAOMAE\",\n",
    "    \"DTNASCIMENTO\",\n",
    "    \"IE\",\n",
    "    \"UF_RG\",\n",
    "    \"OBS\",\n",
    "    \"INFESCOLHIDA\",\n",
    "    \"CDATIVIDADECOMERCIAL\",\n",
    "    \"CDAGENCIAPUBL\",\n",
    "    \"PORCENTAGEM_AGENCIA\",\n",
    "    \"TEMP_VALDUPLICATAS\",\n",
    "    \"TEMP_VALDEBITO\",\n",
    "    \"DIASPRAZOPAG\",\n",
    "    \"CDTIPONFSAIDA\",\n",
    "    \"CDFUNC\",\n",
    "    \"CDMUNIC\",\n",
    "    \"ENDER_NUMERO\",\n",
    "    \"PONTORF\",\n",
    "    \"APELIDO\",\n",
    "    \"PAF_CODIGO_CLIENTE_COMPOSTO\",\n",
    "    \"PAF_CODIGO_EMPRESA\",\n",
    "    \"PAF_MODO_BD\",\n",
    "    \"PAF_CPF\",\n",
    "    \"PAF_SALDO_DISPONIVEL\",\n",
    "    \"RELACIONAMENTOATIVO\",\n",
    "    \"RELACIONAMENTOVALIDADE\",\n",
    "    \"CDCLIENTEINDICACAO\",\n",
    "    \"CADASTROCOMPLETO\",\n",
    "    \"HABILITAFORMAPAG\",\n",
    "    \"TEMPOATUACAORAMO\",\n",
    "    \"CONSUMIDORFINAL\",\n",
    "    \"DTULTICONTATO\"\n",
    "]\n",
    "\n",
    "# Insere o header como primeira linha do Excel\n",
    "ws.append(header)\n",
    "\n",
    "# Insere as linhas de dados (cada linha já com 38 colunas)\n",
    "# Para cada registro (cliente), monta uma linha processada\n",
    "for cliente in rows:\n",
    "    processed_row = []\n",
    "    for column in cliente:\n",
    "        # Se for do tipo bytes, decodifica-o para string\n",
    "        if isinstance(column, bytes):\n",
    "            try:\n",
    "                decoded = column.decode(\"iso-8859-1\", errors=\"replace\")\n",
    "            except UnicodeDecodeError:\n",
    "                decoded = column.decode(\"utf-8\", errors=\"replace\")\n",
    "            processed_row.append(sanitize_string(decoded))\n",
    "        else:\n",
    "            processed_row.append(column)\n",
    "    # Adiciona a linha completa ao worksheet\n",
    "    ws.append(processed_row)\n",
    "\n",
    "# Salva o arquivo Excel\n",
    "output_filename = \"clientes.xlsx\"\n",
    "wb.save(output_filename)\n",
    "print(f\"Arquivo Excel salvo como '{output_filename}'\")"
   ]
  },
  {
   "cell_type": "code",
   "execution_count": 8,
   "metadata": {},
   "outputs": [
    {
     "name": "stderr",
     "output_type": "stream",
     "text": [
      "C:\\Users\\Mateus\\AppData\\Local\\Temp\\ipykernel_22700\\3200533431.py:13: UserWarning: pandas only supports SQLAlchemy connectable (engine/connection) or database string URI or sqlite3 DBAPI2 connection. Other DBAPI2 objects are not tested. Please consider using SQLAlchemy.\n",
      "  df = pd.read_sql(query, conn, params=(start_date, end_date))\n"
     ]
    },
    {
     "name": "stdout",
     "output_type": "stream",
     "text": [
      "Dia de menor gasto (média) por mês:\n",
      "   year_month  day   avg_valor\n",
      "0     2024-03    2   56.500000\n",
      "1     2024-04    6   20.000000\n",
      "2     2024-05   12  243.972857\n",
      "3     2024-06   22  297.027500\n",
      "4     2024-07   21  131.333333\n",
      "5     2024-08   21   19.750000\n",
      "6     2024-09   21   65.003333\n",
      "7     2024-10   12  173.192000\n",
      "8     2024-11   16   75.000000\n",
      "9     2024-12   21  153.735417\n",
      "10    2025-01   25  228.402000\n",
      "11    2025-02   23  143.665000\n"
     ]
    }
   ],
   "source": [
    "# Definindo o período: de 01/03/2024 a 28/02/2025\n",
    "start_date = datetime.date(2024, 3, 1)\n",
    "end_date = datetime.date(2025, 2, 28)\n",
    "\n",
    "# Conectando e executando a query para extrair os dados da tabela APAGAR\n",
    "conn = get_firebird_connection()\n",
    "query = \"\"\"\n",
    "    SELECT DTVENCIMENTO, VALOR\n",
    "    FROM APAGAR\n",
    "    WHERE DTVENCIMENTO BETWEEN ? AND ?\n",
    "\"\"\"\n",
    "# Lê os dados da query para um DataFrame\n",
    "df = pd.read_sql(query, conn, params=(start_date, end_date))\n",
    "conn.close()\n",
    "\n",
    "# Converte a coluna DTVENCIMENTO para datetime (assumindo que as datas estejam no formato dd/mm/yy)\n",
    "df['DTVENCIMENTO'] = pd.to_datetime(df['DTVENCIMENTO'], dayfirst=True)\n",
    "\n",
    "# Cria colunas auxiliares para o agrupamento:\n",
    "# 'year_month' conterá o período do mês (ex.: 2024-03)\n",
    "# 'day' conterá o dia do mês (1,2,...,31)\n",
    "df['year_month'] = df['DTVENCIMENTO'].dt.to_period('M')\n",
    "df['day'] = df['DTVENCIMENTO'].dt.day\n",
    "\n",
    "# Agrupa por 'year_month' e 'day', calculando a média do VALOR para cada dia\n",
    "grouped = df.groupby(['year_month', 'day'])['VALOR'].mean().reset_index()\n",
    "grouped = grouped.rename(columns={'VALOR': 'avg_valor'})\n",
    "\n",
    "# Para cada mês, seleciona o dia com a média de gasto mais baixa\n",
    "result = grouped.loc[grouped.groupby('year_month')['avg_valor'].idxmin()].reset_index(drop=True)\n",
    "\n",
    "# Exibe o resultado\n",
    "print(\"Dia de menor gasto (média) por mês:\")\n",
    "print(result)"
   ]
  },
  {
   "cell_type": "code",
   "execution_count": null,
   "metadata": {},
   "outputs": [],
   "source": []
  }
 ],
 "metadata": {
  "kernelspec": {
   "display_name": "venv",
   "language": "python",
   "name": "python3"
  },
  "language_info": {
   "codemirror_mode": {
    "name": "ipython",
    "version": 3
   },
   "file_extension": ".py",
   "mimetype": "text/x-python",
   "name": "python",
   "nbconvert_exporter": "python",
   "pygments_lexer": "ipython3",
   "version": "3.12.1"
  }
 },
 "nbformat": 4,
 "nbformat_minor": 2
}
