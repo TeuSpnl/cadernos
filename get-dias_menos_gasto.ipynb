{
 "cells": [
  {
   "cell_type": "code",
   "execution_count": 4,
   "metadata": {},
   "outputs": [
    {
     "name": "stderr",
     "output_type": "stream",
     "text": [
      "/var/folders/gt/g493gb1j08q58kpxyclbc6c40000gn/T/ipykernel_79340/3902934038.py:32: UserWarning: pandas only supports SQLAlchemy connectable (engine/connection) or database string URI or sqlite3 DBAPI2 connection. Other DBAPI2 objects are not tested. Please consider using SQLAlchemy.\n",
      "  df = pd.read_sql(query, conn, params=(start_date, end_date))\n"
     ]
    },
    {
     "name": "stdout",
     "output_type": "stream",
     "text": [
      "Média de pagamento por dia do mês (geral):\n",
      "    day    avg_valor\n",
      "0     1   720.579845\n",
      "1     2   917.331538\n",
      "2     3  1091.563071\n",
      "3     4  1676.692460\n",
      "4     5  1391.715070\n",
      "5     6   965.017093\n",
      "6     7  1066.531159\n",
      "7     8   785.277941\n",
      "8     9   750.993881\n",
      "9    10   687.664363\n",
      "10   11   598.510147\n",
      "11   12   500.542218\n",
      "12   13   457.009687\n",
      "13   14   556.385095\n",
      "14   15   871.700273\n",
      "15   16   703.902933\n",
      "16   17   839.551978\n",
      "17   18   876.215526\n",
      "18   19   965.893684\n",
      "19   20  1202.480663\n",
      "20   21   457.040253\n",
      "21   22   708.651453\n",
      "22   23   511.242870\n",
      "23   24   712.180667\n",
      "24   25   984.285969\n",
      "25   26   754.655275\n",
      "26   27   734.816762\n",
      "27   28   823.596855\n",
      "28   29   717.620685\n",
      "29   30   605.639755\n",
      "30   31   733.544632\n",
      "\n",
      "Dia com menor pagamento em média:\n",
      "Dia 13.0 com média de 457.01\n"
     ]
    }
   ],
   "source": [
    "import os\n",
    "import datetime\n",
    "import pandas as pd\n",
    "from dateutil.relativedelta import relativedelta\n",
    "import firebirdsql\n",
    "\n",
    "# Função para obter a conexão com o banco de dados Firebird\n",
    "def get_firebird_connection():\n",
    "    return firebirdsql.connect(\n",
    "        host=os.getenv('HOST'),\n",
    "        port=int(os.getenv('PORT', '3050')),\n",
    "        database=os.getenv('DB_PATH'),\n",
    "        user=os.getenv('APP_USER'),\n",
    "        password=os.getenv('PASSWORD'),\n",
    "        role=os.getenv('ROLE'),\n",
    "        auth_plugin_name=os.getenv('AUTH'),\n",
    "        wire_crypt=False,\n",
    "        charset='ISO8859_1'\n",
    "    )\n",
    "\n",
    "# Define o período: de 01/03/2024 a 28/02/2025\n",
    "start_date = datetime.date(2024, 1, 1)\n",
    "end_date = datetime.date(2025, 2, 28)\n",
    "\n",
    "# Conecta ao banco e extrai os dados da tabela APAGAR\n",
    "conn = get_firebird_connection()\n",
    "query = \"\"\"\n",
    "    SELECT DTVENCIMENTO, VALOR\n",
    "    FROM APAGAR\n",
    "    WHERE DTVENCIMENTO BETWEEN ? AND ?\n",
    "\"\"\"\n",
    "df = pd.read_sql(query, conn, params=(start_date, end_date))\n",
    "conn.close()\n",
    "\n",
    "# Converte a coluna DTVENCIMENTO para datetime (assumindo formato dd/mm/yy)\n",
    "df['DTVENCIMENTO'] = pd.to_datetime(df['DTVENCIMENTO'], dayfirst=True)\n",
    "\n",
    "# Cria uma coluna 'day' com o dia do mês (1 a 31)\n",
    "df['day'] = df['DTVENCIMENTO'].dt.day\n",
    "\n",
    "# Agrupa os dados por 'day' e calcula a média dos valores para cada dia\n",
    "avg_by_day = df.groupby('day')['VALOR'].mean().reset_index()\n",
    "avg_by_day = avg_by_day.rename(columns={'VALOR': 'avg_valor'})\n",
    "\n",
    "# Encontra o dia com a menor média de pagamento\n",
    "min_day = avg_by_day.loc[avg_by_day['avg_valor'].idxmin()]\n",
    "\n",
    "print(\"Média de pagamento por dia do mês (geral):\")\n",
    "print(avg_by_day)\n",
    "\n",
    "print(\"\\nDia com menor pagamento em média:\")\n",
    "print(f\"Dia {min_day['day']} com média de {min_day['avg_valor']:.2f}\")"
   ]
  },
  {
   "cell_type": "code",
   "execution_count": null,
   "metadata": {},
   "outputs": [],
   "source": []
  }
 ],
 "metadata": {
  "kernelspec": {
   "display_name": "venv",
   "language": "python",
   "name": "python3"
  },
  "language_info": {
   "codemirror_mode": {
    "name": "ipython",
    "version": 3
   },
   "file_extension": ".py",
   "mimetype": "text/x-python",
   "name": "python",
   "nbconvert_exporter": "python",
   "pygments_lexer": "ipython3",
   "version": "3.13.1"
  }
 },
 "nbformat": 4,
 "nbformat_minor": 2
}
