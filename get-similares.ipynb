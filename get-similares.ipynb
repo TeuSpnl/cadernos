{
 "cells": [
  {
   "cell_type": "code",
   "execution_count": 6,
   "metadata": {},
   "outputs": [
    {
     "data": {
      "text/plain": [
       "True"
      ]
     },
     "execution_count": 6,
     "metadata": {},
     "output_type": "execute_result"
    }
   ],
   "source": [
    "import os\n",
    "import firebirdsql\n",
    "\n",
    "from openpyxl import Workbook\n",
    "from openpyxl.styles import Alignment\n",
    "from collections import defaultdict\n",
    "from dotenv import load_dotenv\n",
    "\n",
    "# Carregar variáveis de ambiente\n",
    "load_dotenv()"
   ]
  },
  {
   "cell_type": "code",
   "execution_count": 5,
   "metadata": {},
   "outputs": [],
   "source": [
    "def get_firebird_connection():\n",
    "    # Ajustar com os parâmetros corretos do Firebird, inclusive charset\n",
    "    return firebirdsql.connect(\n",
    "        host=os.getenv('HOST'),\n",
    "        port=int(os.getenv('PORT', '3050')),\n",
    "        database=os.getenv('DB_PATH'),\n",
    "        user=os.getenv('APP_USER'),\n",
    "        password=os.getenv('PASSWORD'),\n",
    "        role=os.getenv('ROLE'),\n",
    "        auth_plugin_name=os.getenv('AUTH'),\n",
    "        wire_crypt=False,\n",
    "        charset='ISO8859_1'\n",
    "    )"
   ]
  },
  {
   "cell_type": "code",
   "execution_count": 13,
   "metadata": {},
   "outputs": [],
   "source": [
    "def gerar_planilha_similaridade(output_path=\"similaridades.xlsx\"):\n",
    "    \"\"\"\n",
    "    Gera uma planilha Excel relacionando os produtos (PEÇAS) e suas similaridades.\n",
    "    Cria uma célula mesclada para o nome da peça na coluna A e coloca as similaridades\n",
    "    na coluna B, com uma linha de separação após cada grupo.\n",
    "    \"\"\"\n",
    "\n",
    "    # 1. Conexão com o Firebird\n",
    "    conn = get_firebird_connection()\n",
    "    cursor = conn.cursor()\n",
    "\n",
    "    # 2. Query para buscar os produtos e suas similaridades.\n",
    "    #\n",
    "    #    - Ajuste as colunas conforme sua estrutura real:\n",
    "    #      por exemplo, se quiser o nome do produto, verifique como se chama a coluna da tabela PRODUTO.\n",
    "    #    - Se quiser apenas o CDPRODUTO, mude no SELECT para p.CDPRODUTO em vez de p.NMPRODUTO\n",
    "    #      ou qualquer outro identificador.\n",
    "\n",
    "    query = \"\"\"\n",
    "        SELECT \n",
    "            p.NUMORIGINAL,  -- ou p.CDPRODUTO se preferir\n",
    "            s.NUMORIGINAL\n",
    "        FROM SIMILARIDADE s\n",
    "        JOIN PRODUTO p ON p.CDPRODUTO = s.CDPRODUTO\n",
    "        ORDER BY p.NUMORIGINAL\n",
    "    \"\"\"\n",
    "    cursor.execute(query)\n",
    "    rows = cursor.fetchall()\n",
    "\n",
    "    # 3. Agrupar as similaridades por produto\n",
    "    #    rows deve conter [(nome_produto, num_original), (...), ...]\n",
    "    similaridades_por_produto = defaultdict(list)\n",
    "    for nome_produto, num_original in rows:\n",
    "        similaridades_por_produto[nome_produto].append(num_original)\n",
    "\n",
    "    # 4. Criar a planilha Excel\n",
    "    wb = Workbook()\n",
    "    ws = wb.active\n",
    "\n",
    "    # Ajustar larguras das colunas, se desejar\n",
    "    ws.column_dimensions['A'].width = 40\n",
    "    ws.column_dimensions['B'].width = 40\n",
    "\n",
    "    current_row = 1\n",
    "\n",
    "    for produto, lista_similares in similaridades_por_produto.items():\n",
    "        if not lista_similares:\n",
    "            continue\n",
    "\n",
    "        # Mescla a coluna A para a quantidade de linhas que correspondem a este produto\n",
    "        #\n",
    "        # Exemplo: se há 3 similaridades para o produto X, mesclar de current_row até current_row + 2.\n",
    "        #\n",
    "        first_row = current_row\n",
    "        last_row = current_row + len(lista_similares) - 1\n",
    "\n",
    "        # Mesclar somente se houver mais de 1 similaridade; se houver apenas 1, não há a necessidade de mescla,\n",
    "        # mas pode deixar mesclar pois ele mescla \"uma linha só\" sem problemas.\n",
    "        ws.merge_cells(start_row=first_row, start_column=1, end_row=last_row, end_column=1)\n",
    "\n",
    "        # Escrever o nome do produto na célula mesclada (linha inicial do grupo)\n",
    "        ws.cell(row=first_row, column=1, value=produto)\n",
    "\n",
    "        # Alinhar verticalmente no topo (ou centro)\n",
    "        ws.cell(row=first_row, column=1).alignment = Alignment(vertical='center')\n",
    "        ws.cell(row=first_row, column=2).alignment = Alignment(vertical='center')\n",
    "\n",
    "        # Colocar a coluna A em negrito\n",
    "        ws.cell(row=first_row, column=1).font = \n",
    "\n",
    "        # Escrever cada similaridade na coluna B\n",
    "        for i, similaridade in enumerate(lista_similares):\n",
    "            ws.cell(row=first_row + i, column=2, value=similaridade)\n",
    "\n",
    "        # Avançar current_row\n",
    "        current_row += len(lista_similares)\n",
    "\n",
    "        current_row += 1\n",
    "\n",
    "    # 5. Salvar e fechar conexão\n",
    "    wb.save(output_path)\n",
    "    conn.close()\n",
    "    print(f\"Planilha gerada: {output_path}\")"
   ]
  },
  {
   "cell_type": "code",
   "execution_count": 14,
   "metadata": {},
   "outputs": [
    {
     "name": "stdout",
     "output_type": "stream",
     "text": [
      "Planilha gerada: similaridades.xlsx\n"
     ]
    }
   ],
   "source": [
    "gerar_planilha_similaridade(\"similaridades.xlsx\")"
   ]
  }
 ],
 "metadata": {
  "kernelspec": {
   "display_name": "venv",
   "language": "python",
   "name": "python3"
  },
  "language_info": {
   "codemirror_mode": {
    "name": "ipython",
    "version": 3
   },
   "file_extension": ".py",
   "mimetype": "text/x-python",
   "name": "python",
   "nbconvert_exporter": "python",
   "pygments_lexer": "ipython3",
   "version": "3.13.1"
  }
 },
 "nbformat": 4,
 "nbformat_minor": 2
}
